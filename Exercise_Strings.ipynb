{
 "cells": [
  {
   "cell_type": "markdown",
   "id": "6d32a33b",
   "metadata": {},
   "source": [
    "### 1. Write a program to accept a string and display the string with changed case.Change upper and lower case)\n"
   ]
  },
  {
   "cell_type": "code",
   "execution_count": 52,
   "id": "e28b6d40",
   "metadata": {},
   "outputs": [
    {
     "name": "stdout",
     "output_type": "stream",
     "text": [
      "enter the stringRAJALAKSHMI\n",
      "rajalakshmi\n"
     ]
    }
   ],
   "source": [
    "a=input(\"enter the string\")\n",
    "print(a.swapcase())"
   ]
  },
  {
   "cell_type": "markdown",
   "id": "e3a56e1d",
   "metadata": {},
   "source": [
    "### 2.Write a program to count the length of string without using len() function.\n"
   ]
  },
  {
   "cell_type": "code",
   "execution_count": 53,
   "id": "bee7b8d0",
   "metadata": {},
   "outputs": [
    {
     "name": "stdout",
     "output_type": "stream",
     "text": [
      "enter the stringpython\n",
      "length of the string is 6\n"
     ]
    }
   ],
   "source": [
    "a=input(\"enter the string\")\n",
    "count_a=0\n",
    "for i in a:\n",
    "    count_a=count_a+1\n",
    "print(\"length of the string is\", count_a)"
   ]
  },
  {
   "cell_type": "markdown",
   "id": "0c88e630",
   "metadata": {},
   "source": [
    "### 3.Write a program to accept the string from user and display the ascii value for each letter.\n"
   ]
  },
  {
   "cell_type": "code",
   "execution_count": 56,
   "id": "db6a5c2f",
   "metadata": {},
   "outputs": [
    {
     "name": "stdout",
     "output_type": "stream",
     "text": [
      "enter the stringprogramming\n",
      "p ------- 112\n",
      "r ------- 114\n",
      "o ------- 111\n",
      "g ------- 103\n",
      "r ------- 114\n",
      "a ------- 97\n",
      "m ------- 109\n",
      "m ------- 109\n",
      "i ------- 105\n",
      "n ------- 110\n",
      "g ------- 103\n"
     ]
    }
   ],
   "source": [
    "a=input(\"enter the string\")\n",
    "for i in a:\n",
    "    ASCI=ord(i)\n",
    "    print(i,\"-------\",ASCI)  "
   ]
  },
  {
   "cell_type": "markdown",
   "id": "480aef0b",
   "metadata": {},
   "source": [
    "### 4.Write a program that accepts the string and replace all spaces by “#” symbol.\n"
   ]
  },
  {
   "cell_type": "code",
   "execution_count": 18,
   "id": "dca1e889",
   "metadata": {},
   "outputs": [
    {
     "name": "stdout",
     "output_type": "stream",
     "text": [
      "enter the stringPython is a programming language\n"
     ]
    },
    {
     "data": {
      "text/plain": [
       "'Python#is#a#programming#language'"
      ]
     },
     "execution_count": 18,
     "metadata": {},
     "output_type": "execute_result"
    }
   ],
   "source": [
    "a=input(\"enter the string\")\n",
    "a.replace(\" \",\"#\")"
   ]
  },
  {
   "cell_type": "markdown",
   "id": "0bbb99de",
   "metadata": {},
   "source": [
    "### 5.Write a program that delete the character at specific position.\n"
   ]
  },
  {
   "cell_type": "code",
   "execution_count": 1,
   "id": "0522af63",
   "metadata": {},
   "outputs": [
    {
     "name": "stdout",
     "output_type": "stream",
     "text": [
      "enter the stringPython\n",
      "enter the index number to be deleted4\n",
      "Pyth\n",
      "n\n",
      "Pythn\n"
     ]
    }
   ],
   "source": [
    "str=input(\"enter the string\")\n",
    "d_str=int(input(\"enter the index number to be deleted\"))\n",
    "s1=str[0:d_str]\n",
    "s2=str[d_str+1::]\n",
    "print(s1)\n",
    "print(s2)\n",
    "result=s1+s2\n",
    "print(result)"
   ]
  },
  {
   "cell_type": "markdown",
   "id": "c9152ade",
   "metadata": {},
   "source": [
    "### 6.Write a  program which accepts a strings and count the frequency of each vowel.\n"
   ]
  },
  {
   "cell_type": "code",
   "execution_count": 59,
   "id": "e385cb50",
   "metadata": {},
   "outputs": [
    {
     "name": "stdout",
     "output_type": "stream",
     "text": [
      "enter the stringfunctions\n",
      "count of vowels is 3\n"
     ]
    }
   ],
   "source": [
    "a=input(\"enter the string\")\n",
    "count_v=0\n",
    "for i in a:\n",
    "    if i in \"aeiou\":\n",
    "        count_v=count_v+1\n",
    "print(\"count of vowels is\",count_v)"
   ]
  },
  {
   "cell_type": "markdown",
   "id": "bad13006",
   "metadata": {},
   "source": [
    "### 7.Write a program which accepts the two strings from user and display the common words(ignore case).\n"
   ]
  },
  {
   "cell_type": "code",
   "execution_count": 89,
   "id": "46de0069",
   "metadata": {},
   "outputs": [
    {
     "name": "stdout",
     "output_type": "stream",
     "text": [
      "enter the first stringMATHS\n",
      "enter the second stringMadrid\n",
      "the common characters are M\n"
     ]
    }
   ],
   "source": [
    "s1=input(\"enter the first string\")\n",
    "s2=input(\"enter the second string\")\n",
    "count=\"\"\n",
    "for ch in s1:\n",
    "    if ch in s2:\n",
    "        count=count+ch\n",
    "print(\"the common characters are\",count)#ignore case"
   ]
  },
  {
   "cell_type": "markdown",
   "id": "a05cb7e8",
   "metadata": {},
   "source": [
    "### 8.WAP to remove vowels from the string.\n"
   ]
  },
  {
   "cell_type": "code",
   "execution_count": 62,
   "id": "f058ff47",
   "metadata": {},
   "outputs": [
    {
     "name": "stdout",
     "output_type": "stream",
     "text": [
      "enter the stringrajalakshmi\n",
      "After removing vowels ----- rjlkshm\n"
     ]
    }
   ],
   "source": [
    "a=input(\"enter the string\")\n",
    "a2=\"\"\n",
    "for i in a:\n",
    "    if i not in \"aeiou\":\n",
    "        a2=a2+i\n",
    "print(\"After removing vowels -----\",a2) "
   ]
  },
  {
   "cell_type": "markdown",
   "id": "a78b8e50",
   "metadata": {},
   "source": [
    "### 9.Write a program that takes full name as input and displays the abbrevations of the first and middle names except the last name which is displayed as it is. Eg:Robert Brett Roser output :R.B.Roser.\n"
   ]
  },
  {
   "cell_type": "code",
   "execution_count": 64,
   "id": "b3d65e26",
   "metadata": {},
   "outputs": [
    {
     "name": "stdout",
     "output_type": "stream",
     "text": [
      "enter the first nameRam\n",
      "enter the middle namePrakash\n",
      "enter the last nameYadav\n",
      "R . P . Yadav\n"
     ]
    }
   ],
   "source": [
    "s1=input(\"enter the first name\")\n",
    "s2=input(\"enter the middle name\")\n",
    "s3=input(\"enter the last name\")\n",
    "print(s1[0],\".\",s2[0],\".\",s3)"
   ]
  },
  {
   "cell_type": "markdown",
   "id": "1417a084",
   "metadata": {},
   "source": [
    "### 10.Write a Python program to get a string made of the first 2 and the last 2 chars from a given a string. If the string length is less than 2, return instead of the empty string.\n",
    "\n",
    "Sample String : 'wkresource'\n",
    "\n",
    "Expected Result : 'wkce'\n",
    "\n"
   ]
  },
  {
   "cell_type": "code",
   "execution_count": 77,
   "id": "1edd077c",
   "metadata": {},
   "outputs": [
    {
     "name": "stdout",
     "output_type": "stream",
     "text": [
      "enter the first stringpython\n",
      "pyon\n"
     ]
    }
   ],
   "source": [
    "s=input(\"enter the first string\")\n",
    "length=len(s)\n",
    "if len(s)>=2:\n",
    "    a=s[0:2]\n",
    "    a1=s[-2:]\n",
    "    print(a+a1)\n",
    "else:\n",
    "    print(\"\")"
   ]
  },
  {
   "cell_type": "markdown",
   "id": "364cbe4c",
   "metadata": {},
   "source": [
    "### 11.Write a Python program to get a single string from two given strings, separated by a space and swap the first two characters of each string.\n",
    "Sample String : 'abc', 'xyz'\n",
    "\n",
    "Expected Result : 'xyc abz'\n"
   ]
  },
  {
   "cell_type": "code",
   "execution_count": 66,
   "id": "9c0b0ef6",
   "metadata": {},
   "outputs": [
    {
     "name": "stdout",
     "output_type": "stream",
     "text": [
      "enter the first stringabc\n",
      "enter the second stringxyz\n",
      "xyc abz\n"
     ]
    }
   ],
   "source": [
    "s1=input(\"enter the first string\")\n",
    "s2=input(\"enter the second string\")\n",
    "a=s2[0:2]\n",
    "b=s1[2]\n",
    "r1=a+b\n",
    "a1=s1[0:2]\n",
    "b2=s2[2]\n",
    "r2=a1+b2\n",
    "print(r1+\" \"+r2)"
   ]
  },
  {
   "cell_type": "markdown",
   "id": "dcaeee5f",
   "metadata": {},
   "source": [
    "### 12.Write a Python program to add 'ing' at the end of a given string (length should be at least 3). \n",
    "If the given string already ends with 'ing' then add 'ly' instead. \n",
    "\n",
    "If the string length of the given string is less than 3, leave it unchanged. \n",
    "\n",
    "Sample String : 'abc'\n",
    "Expected Result : 'abcing'\n",
    "\n",
    "Sample String : 'string'\n",
    "Expected Result : 'stringly\n"
   ]
  },
  {
   "cell_type": "code",
   "execution_count": 71,
   "id": "74293d27",
   "metadata": {},
   "outputs": [
    {
     "name": "stdout",
     "output_type": "stream",
     "text": [
      "input the stringabc\n",
      "abcing\n"
     ]
    }
   ],
   "source": [
    "s=input(\"input the string\")\n",
    "length=len(s)\n",
    "if length<3:\n",
    "    print(s)\n",
    "elif s[-3:]==\"ing\":\n",
    "    print(s+\"ly\")\n",
    "else:\n",
    "    print(s+\"ing\")"
   ]
  },
  {
   "cell_type": "markdown",
   "id": "1e854883",
   "metadata": {},
   "source": [
    "### 13.Write a Python program to remove the characters which have odd index values of a given string.\n"
   ]
  },
  {
   "cell_type": "code",
   "execution_count": 1,
   "id": "98ae416e",
   "metadata": {},
   "outputs": [
    {
     "name": "stdout",
     "output_type": "stream",
     "text": [
      "enter the stringnandini\n",
      "index of n is 0\n",
      "index of a is 1\n",
      "index of n is 0\n",
      "index of d is 3\n",
      "index of i is 4\n",
      "index of n is 0\n",
      "index of i is 4\n",
      "nnini\n"
     ]
    }
   ],
   "source": [
    "s=input(\"enter the string\")\n",
    "count=\"\"\n",
    "for ch in s:\n",
    "    s1=s.index(ch)\n",
    "    print(\"index of\",ch,\"is\",s1)\n",
    "    if s1%2==0:\n",
    "        count=count+ch\n",
    "print(count)   "
   ]
  },
  {
   "cell_type": "markdown",
   "id": "41bcb995",
   "metadata": {},
   "source": [
    "### 14.Write a Python function to convert a given string to all uppercase if it contains at least 2 uppercase characters in the first 4 characters.\n"
   ]
  },
  {
   "cell_type": "code",
   "execution_count": 86,
   "id": "a144ddde",
   "metadata": {},
   "outputs": [
    {
     "name": "stdout",
     "output_type": "stream",
     "text": [
      "enter the stringRAjalakshmi\n",
      "RAJALAKSHMI\n"
     ]
    }
   ],
   "source": [
    "s=input(\"enter the string\")\n",
    "count_u=0\n",
    "for ch in s[0:4]:\n",
    "    if ch==ch.upper():\n",
    "        count_u=count_u+1\n",
    "if count_u>=2:\n",
    "    print(s.upper())\n",
    "else:\n",
    "    print(s)      "
   ]
  },
  {
   "cell_type": "markdown",
   "id": "e6aa2c17",
   "metadata": {},
   "source": [
    "### 15.Write a Python program to print the index of the character in a string.\n",
    "Sample string: w3resource\n",
    "\n",
    "Expected output:\n",
    "Current character w position at 0\n",
    "\n",
    "Current character 3 position at 1\n",
    "\n",
    "Current character r position at 2\n",
    "- - - - - - - - - - - - - - - - - - - - - - - - -\n",
    "Current character c position at 8\n",
    "\n",
    "Current character e position at 9\n"
   ]
  },
  {
   "cell_type": "code",
   "execution_count": 66,
   "id": "8a8e2f25",
   "metadata": {},
   "outputs": [
    {
     "name": "stdout",
     "output_type": "stream",
     "text": [
      "enter the stringnandini\n",
      "index of n is 0\n",
      "index of a is 1\n",
      "index of n is 0\n",
      "index of d is 3\n",
      "index of i is 4\n",
      "index of n is 0\n",
      "index of i is 4\n"
     ]
    }
   ],
   "source": [
    "s=input(\"enter the string\")\n",
    "for i in s:\n",
    "    s1=s.index(i)\n",
    "    print(\"index of\",i,\"is\",s1)"
   ]
  },
  {
   "cell_type": "markdown",
   "id": "113766cc",
   "metadata": {},
   "source": [
    "### 16.Write a Python program to check whether a string contains all letters of the alphabet.\n"
   ]
  },
  {
   "cell_type": "code",
   "execution_count": 36,
   "id": "2eb3ced5",
   "metadata": {},
   "outputs": [
    {
     "name": "stdout",
     "output_type": "stream",
     "text": [
      "enter the stringa quick browm for jumps over the lazy dogs\n",
      "['a', 'quick', 'browm', 'for', 'jumps', 'over', 'the', 'lazy', 'dogs']\n",
      "aquickbrowmforjumpsoverthelazydogs\n",
      "['a', 'a', 'b', 'c', 'd', 'e', 'e', 'f', 'g', 'h', 'i', 'j', 'k', 'l', 'm', 'm', 'o', 'o', 'o', 'o', 'p', 'q', 'r', 'r', 'r', 's', 's', 't', 'u', 'u', 'v', 'w', 'y', 'z']\n",
      " abcdefghijklmopqrstuvwyz\n",
      "25\n",
      "It doesnot contain all the alphabets of the letters\n"
     ]
    }
   ],
   "source": [
    "s=input(\"enter the string\")\n",
    "unique=\" \"\n",
    "s1=s.split(\" \")\n",
    "a=\"\"\n",
    "print(s1)\n",
    "s=\"\"\n",
    "s2=s.join(s1)\n",
    "print(s2)\n",
    "s3=sorted(s2)\n",
    "print(s3)\n",
    "for ch in s3:\n",
    "    if ch not in unique:\n",
    "        unique=unique+ch\n",
    "print(unique)\n",
    "length=len(unique)\n",
    "print(length)\n",
    "if length==26:\n",
    "    print(\"It contains all the alphabets of the letters\")\n",
    "else:\n",
    "    print(\"It doesnot contain all the alphabets of the letters\")"
   ]
  }
 ],
 "metadata": {
  "kernelspec": {
   "display_name": "Python 3 (ipykernel)",
   "language": "python",
   "name": "python3"
  },
  "language_info": {
   "codemirror_mode": {
    "name": "ipython",
    "version": 3
   },
   "file_extension": ".py",
   "mimetype": "text/x-python",
   "name": "python",
   "nbconvert_exporter": "python",
   "pygments_lexer": "ipython3",
   "version": "3.9.13"
  }
 },
 "nbformat": 4,
 "nbformat_minor": 5
}
