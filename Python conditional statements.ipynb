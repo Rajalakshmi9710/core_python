{
 "cells": [
  {
   "cell_type": "markdown",
   "id": "701898ab",
   "metadata": {},
   "source": [
    "## CLASS 2 - 20 NOVEMBER - CONDITIONAL STATEMENTS"
   ]
  },
  {
   "cell_type": "markdown",
   "id": "380e9d80",
   "metadata": {},
   "source": [
    "### There are three types of conditions in python:\n",
    "1. if statement\n",
    "2. if-else statement\n",
    "3. elif statement"
   ]
  },
  {
   "cell_type": "markdown",
   "id": "fc86371d",
   "metadata": {},
   "source": [
    "### 1. if statement - It is a simple if statement. When condition is true, then code which is associated with if  statement will execute."
   ]
  },
  {
   "cell_type": "markdown",
   "id": "e85c9a8d",
   "metadata": {},
   "source": [
    "### 2. if-else statement - When the condition is true, then code associated with if statement will execute, otherwise  code associated with else statement will execute."
   ]
  },
  {
   "cell_type": "markdown",
   "id": "f1f9d5c6",
   "metadata": {},
   "source": [
    "### 3.elif statement- It is short form of else-if statement. If the previous conditions were not true,then do this condition\". It is also known as nested if statement."
   ]
  },
  {
   "cell_type": "markdown",
   "id": "81df65ba",
   "metadata": {},
   "source": [
    "## if else "
   ]
  },
  {
   "cell_type": "markdown",
   "id": "9f0ee5f2",
   "metadata": {},
   "source": [
    "### Distance questions"
   ]
  },
  {
   "cell_type": "code",
   "execution_count": 1,
   "id": "21432a81",
   "metadata": {},
   "outputs": [
    {
     "name": "stdout",
     "output_type": "stream",
     "text": [
      "enter the distance300\n"
     ]
    },
    {
     "ename": "TypeError",
     "evalue": "'>' not supported between instances of 'str' and 'int'",
     "output_type": "error",
     "traceback": [
      "\u001b[1;31m---------------------------------------------------------------------------\u001b[0m",
      "\u001b[1;31mTypeError\u001b[0m                                 Traceback (most recent call last)",
      "\u001b[1;32m~\\AppData\\Local\\Temp\\ipykernel_5216\\4193387672.py\u001b[0m in \u001b[0;36m<module>\u001b[1;34m\u001b[0m\n\u001b[0;32m      1\u001b[0m \u001b[0mdistance\u001b[0m\u001b[1;33m=\u001b[0m\u001b[0minput\u001b[0m\u001b[1;33m(\u001b[0m\u001b[1;34m\"enter the distance\"\u001b[0m\u001b[1;33m)\u001b[0m\u001b[1;33m\u001b[0m\u001b[1;33m\u001b[0m\u001b[0m\n\u001b[1;32m----> 2\u001b[1;33m \u001b[1;32mif\u001b[0m \u001b[0mdistance\u001b[0m\u001b[1;33m>\u001b[0m\u001b[1;36m400\u001b[0m\u001b[1;33m:\u001b[0m\u001b[1;33m\u001b[0m\u001b[1;33m\u001b[0m\u001b[0m\n\u001b[0m\u001b[0;32m      3\u001b[0m     \u001b[0mprint\u001b[0m\u001b[1;33m(\u001b[0m\u001b[1;34m\"I will go for outing\"\u001b[0m\u001b[1;33m)\u001b[0m\u001b[1;33m\u001b[0m\u001b[1;33m\u001b[0m\u001b[0m\n\u001b[0;32m      4\u001b[0m \u001b[1;32melse\u001b[0m\u001b[1;33m:\u001b[0m\u001b[1;33m\u001b[0m\u001b[1;33m\u001b[0m\u001b[0m\n\u001b[0;32m      5\u001b[0m     \u001b[0mprint\u001b[0m\u001b[1;33m(\u001b[0m\u001b[1;34m\"Will stay at home\"\u001b[0m\u001b[1;33m)\u001b[0m\u001b[1;33m\u001b[0m\u001b[1;33m\u001b[0m\u001b[0m\n",
      "\u001b[1;31mTypeError\u001b[0m: '>' not supported between instances of 'str' and 'int'"
     ]
    }
   ],
   "source": [
    "distance=input(\"enter the distance\")\n",
    "if distance>400:\n",
    "    print(\"I will go for outing\")\n",
    "else:\n",
    "    print(\"Will stay at home\") #There is a type error as > is not inserted between str and int."
   ]
  },
  {
   "cell_type": "code",
   "execution_count": 2,
   "id": "221178b6",
   "metadata": {},
   "outputs": [
    {
     "name": "stdout",
     "output_type": "stream",
     "text": [
      "enter the distance300\n",
      "Will stay at home\n"
     ]
    }
   ],
   "source": [
    "distance=input(\"enter the distance\") # Str is converted to int.\n",
    "distance=int(distance)\n",
    "if distance>400: #colon is used in the end.\n",
    "    print(\"I will go for outing\")\n",
    "else:\n",
    "    print(\"Will stay at home\")"
   ]
  },
  {
   "cell_type": "code",
   "execution_count": 3,
   "id": "c32f1527",
   "metadata": {},
   "outputs": [
    {
     "name": "stdout",
     "output_type": "stream",
     "text": [
      "enter the distance300\n",
      "Will stay at home\n"
     ]
    }
   ],
   "source": [
    "distance=int(input(\"enter the distance\")) #int is written not in a separte line.\n",
    "if distance>400:\n",
    "    print(\"I will go for outing\")\n",
    "else:\n",
    "    print(\"Will stay at home\")"
   ]
  },
  {
   "cell_type": "markdown",
   "id": "a80c25fe",
   "metadata": {},
   "source": [
    "## If elif - It is used for multiple conditions."
   ]
  },
  {
   "cell_type": "code",
   "execution_count": 1,
   "id": "0a850a50",
   "metadata": {},
   "outputs": [
    {
     "name": "stdout",
     "output_type": "stream",
     "text": [
      "enter the distance200\n",
      "I will go via train\n"
     ]
    }
   ],
   "source": [
    "distance=int(input(\"enter the distance\"))\n",
    "\n",
    "if distance>=400:\n",
    "    print(\"I will go via flight\")\n",
    "elif distance>=200 and distance<400:\n",
    "    print(\"I will go via train\")\n",
    "elif distance>=100 and distance<200:\n",
    "    print(\"I will go via cab\")\n",
    "elif distance>=0 and distance<100:\n",
    "    print(\"will stay at home\")\n",
    "else:\n",
    "    print(\"distance is invalid\")\n"
   ]
  },
  {
   "cell_type": "markdown",
   "id": "d638ffb1",
   "metadata": {},
   "source": [
    "### The number is positive or negative"
   ]
  },
  {
   "cell_type": "code",
   "execution_count": 11,
   "id": "51318d8c",
   "metadata": {},
   "outputs": [
    {
     "name": "stdout",
     "output_type": "stream",
     "text": [
      "enter the number-6\n",
      "the -6 is negative\n"
     ]
    }
   ],
   "source": [
    "num=int(input(\"enter the number\"))\n",
    "if num>=0:\n",
    "        print(\" the \",num,\" is positive \") #num is not written in inverted commos as it denotes a variable.\n",
    "else:\n",
    "        print(\"the\", num,\"is negative\")"
   ]
  },
  {
   "cell_type": "markdown",
   "id": "3589fb4f",
   "metadata": {},
   "source": [
    "### The number is even or odd"
   ]
  },
  {
   "cell_type": "code",
   "execution_count": 12,
   "id": "f256009c",
   "metadata": {},
   "outputs": [
    {
     "name": "stdout",
     "output_type": "stream",
     "text": [
      "enter the numner5\n",
      "the 5 is odd\n"
     ]
    }
   ],
   "source": [
    "num=int(input(\"enter the numner\"))\n",
    "if num%2==0:\n",
    "    print(\"the\", num , \"is even\")\n",
    "else:\n",
    "    print(\"the\", num, \"is odd\")"
   ]
  },
  {
   "cell_type": "markdown",
   "id": "1b4d5009",
   "metadata": {},
   "source": [
    "### A person is eligoble for vote or not"
   ]
  },
  {
   "cell_type": "code",
   "execution_count": 14,
   "id": "1cc2cc61",
   "metadata": {},
   "outputs": [
    {
     "name": "stdout",
     "output_type": "stream",
     "text": [
      "enter the number15\n",
      "Not eligible for vote\n"
     ]
    }
   ],
   "source": [
    "num=int(input(\"enter the number\"))\n",
    "if num>=18:\n",
    "    print(\"Eligible for vote\")\n",
    "else:\n",
    "    print(\"Not eligible for vote\")"
   ]
  },
  {
   "cell_type": "markdown",
   "id": "93dafac1",
   "metadata": {},
   "source": [
    "### The last digit is even or odd - doubt"
   ]
  },
  {
   "cell_type": "code",
   "execution_count": 18,
   "id": "5a6eb47f",
   "metadata": {},
   "outputs": [
    {
     "name": "stdout",
     "output_type": "stream",
     "text": [
      "enter the number12345678\n",
      "The last digit is even\n"
     ]
    }
   ],
   "source": [
    "num=int(input(\"enter the number\"))\n",
    "if num%10:\n",
    "    print(\"The last digit is even\")\n",
    "else:\n",
    "    print(\"The last digit is odd\")\n",
    " "
   ]
  },
  {
   "cell_type": "markdown",
   "id": "b5975ae0",
   "metadata": {},
   "source": [
    "### The number is divisible by both 5 and 7"
   ]
  },
  {
   "cell_type": "code",
   "execution_count": 21,
   "id": "32bdfd0a",
   "metadata": {},
   "outputs": [
    {
     "name": "stdout",
     "output_type": "stream",
     "text": [
      "enter the number35\n",
      "35 is divisible by both 5 and 7\n"
     ]
    }
   ],
   "source": [
    "num=int(input(\"enter the number\"))\n",
    "if num%5==0 and num%7==0:\n",
    "    print(num , \"is divisible by both 5 and 7\")\n",
    "else:\n",
    "    print(num, \"is not divisible by both 5 and 7\")"
   ]
  },
  {
   "cell_type": "markdown",
   "id": "e92e82f4",
   "metadata": {},
   "source": [
    "### Greater number between two numbers"
   ]
  },
  {
   "cell_type": "code",
   "execution_count": 23,
   "id": "b62b7480",
   "metadata": {},
   "outputs": [
    {
     "name": "stdout",
     "output_type": "stream",
     "text": [
      "enter the number78\n",
      "enter the number89\n",
      "89 is greater than 78\n"
     ]
    }
   ],
   "source": [
    "num1=int(input(\"enter the number\"))\n",
    "num2=int(input(\"enter the number\"))\n",
    "if num1>num2:\n",
    "    print(num1, \"is greater than\", num2)\n",
    "else:\n",
    "    print(num2, \"is greater than\", num1)\n",
    " "
   ]
  },
  {
   "cell_type": "markdown",
   "id": "81b5790a",
   "metadata": {},
   "source": [
    "### Greatest number between three numbers"
   ]
  },
  {
   "cell_type": "code",
   "execution_count": 1,
   "id": "8e4db862",
   "metadata": {},
   "outputs": [
    {
     "name": "stdout",
     "output_type": "stream",
     "text": [
      "enter the number3\n",
      "enter the number4\n",
      "enter the number3\n",
      "4 is greater than 3\n"
     ]
    }
   ],
   "source": [
    "num1=int(input(\"enter the number\"))\n",
    "num2=int(input(\"enter the number\"))\n",
    "num3=int(input(\"enter the number\"))\n",
    "if num1>num2:\n",
    "    print(num1, \"is greater than\", num2)\n",
    "else:\n",
    "    print(num2, \"is greater than\", num1)"
   ]
  },
  {
   "cell_type": "markdown",
   "id": "33a2eee6",
   "metadata": {},
   "source": [
    "### WAP to display the week name corresponding to the week number entered by the user. "
   ]
  },
  {
   "cell_type": "code",
   "execution_count": 2,
   "id": "6481fe9e",
   "metadata": {},
   "outputs": [
    {
     "name": "stdout",
     "output_type": "stream",
     "text": [
      "enter the day8\n",
      "the day is invalid\n"
     ]
    }
   ],
   "source": [
    "day=input(\"enter the day\")\n",
    "if day==\"1\":\n",
    "    print(\"the day is Monday\")\n",
    "elif day==\"2\":\n",
    "    print(\"the day is Tuesday\")\n",
    "elif day==\"3\":\n",
    "    print(\"the day is Wednesday\")\n",
    "elif day==\"4\":\n",
    "    print(\"the day is thursday\")\n",
    "elif day==\"5\":\n",
    "    print(\"the day is Friday\")\n",
    "elif day==\"6\":\n",
    "    print(\"the day is Saturday\")\n",
    "elif day==\"7\":\n",
    "    print(\"the day is Sunday\")\n",
    "else:\n",
    "    print(\"the day is invalid\")\n",
    "\n",
    "   \n",
    "    "
   ]
  },
  {
   "cell_type": "markdown",
   "id": "788583a9",
   "metadata": {},
   "source": [
    "### WAP to display the numbers as four for the input is 4."
   ]
  },
  {
   "cell_type": "code",
   "execution_count": 9,
   "id": "954c0927",
   "metadata": {},
   "outputs": [
    {
     "name": "stdout",
     "output_type": "stream",
     "text": [
      "enter the number5\n",
      "the number is five\n"
     ]
    }
   ],
   "source": [
    "num=int(input(\"enter the number\"))\n",
    "if num==0:\n",
    "    print(\"the number is zero\")\n",
    "elif num==1:\n",
    "    print(\"the number is one\")\n",
    "elif num==2:\n",
    "    print(\"the number is two\")\n",
    "elif num==3:\n",
    "    print(\"the number is three\")\n",
    "elif num==4:\n",
    "    print(\"the number is four\")\n",
    "elif num==5:\n",
    "    print(\"the number is five\")\n",
    "elif num==6:\n",
    "    print(\"the number is six\")\n",
    "elif num==7:\n",
    "    print(\"the number is seven\")\n",
    "elif num==8:\n",
    "    print(\"the number is eight\")\n",
    "elif num==9:\n",
    "    print(\"the number is nine\")\n",
    "else:\n",
    "    print(\"the number is not one digit number\")\n",
    "    \n",
    "    \n",
    "       "
   ]
  },
  {
   "cell_type": "markdown",
   "id": "8c2f5e71",
   "metadata": {},
   "source": [
    "### Nested loop"
   ]
  },
  {
   "cell_type": "code",
   "execution_count": null,
   "id": "adf1be26",
   "metadata": {},
   "outputs": [
    {
     "name": "stdout",
     "output_type": "stream",
     "text": [
      "enter the distance400\n",
      "I will go via flight\n"
     ]
    }
   ],
   "source": [
    "distance=int(input(\"enter the distance\"))\n",
    "\n",
    "if distance>=400:\n",
    "    print(\"I will go via flight\")\n",
    "    f=input(\"enter the flight\")\n",
    "    if f==\"indigo\":\n",
    "        print(\"I will carry home food\")\n",
    "    elif f==\"spicejet\":\n",
    "        print(\"carry snacks\")\n",
    "    else:\n",
    "        print(\"not carry\")   \n",
    "elif distance>=200 and distance<400:\n",
    "    print(\"I will go via train\")\n",
    "elif distance>=100 and distance<200:\n",
    "    print(\"I will go via cab\")\n",
    "elif distance>=0 and distance<100:\n",
    "    print(\"will stay at home\")\n",
    "else:\n",
    "    print(\"distance is invalid\")"
   ]
  }
 ],
 "metadata": {
  "kernelspec": {
   "display_name": "Python 3 (ipykernel)",
   "language": "python",
   "name": "python3"
  },
  "language_info": {
   "codemirror_mode": {
    "name": "ipython",
    "version": 3
   },
   "file_extension": ".py",
   "mimetype": "text/x-python",
   "name": "python",
   "nbconvert_exporter": "python",
   "pygments_lexer": "ipython3",
   "version": "3.9.13"
  }
 },
 "nbformat": 4,
 "nbformat_minor": 5
}
